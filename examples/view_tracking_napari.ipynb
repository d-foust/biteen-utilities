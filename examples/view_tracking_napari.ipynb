{
 "cells": [
  {
   "cell_type": "markdown",
   "metadata": {},
   "source": [
    "# view_tracking_napari.ipynb\n",
    "A notebook for visualizing tracking results in napari viewer"
   ]
  },
  {
   "cell_type": "code",
   "execution_count": 12,
   "metadata": {},
   "outputs": [],
   "source": [
    "from glob import glob\n",
    "import os\n",
    "import pathlib\n",
    "\n",
    "from aicsimageio import AICSImage\n",
    "import napari as na\n",
    "import pandas as pd"
   ]
  },
  {
   "cell_type": "code",
   "execution_count": 4,
   "metadata": {},
   "outputs": [
    {
     "name": "stderr",
     "output_type": "stream",
     "text": [
      "Invalid schema for package 'ome-types', please run 'npe2 validate ome-types' to check for manifest errors.\n",
      "napari.manifest -> 'skan' could not be imported: Could not find file 'napari.yaml' in module 'skan'\n"
     ]
    }
   ],
   "source": [
    "viewer = na.Viewer(title='Tracking Results')"
   ]
  },
  {
   "cell_type": "code",
   "execution_count": 3,
   "metadata": {},
   "outputs": [],
   "source": [
    "# movie folder\n",
    "mov_fld = r\"T:\\MIGRATED\\Lab_Members\\Daniel_Foust\\Data\\RNA-DNA Hybrids\\LVG152 rnhC-PAmCherry\\2022-10-15 rnhc\\0.531mW\"\n",
    "# reference image folder\n",
    "ref_fld = r\"T:\\MIGRATED\\Lab_Members\\Daniel_Foust\\Data\\RNA-DNA Hybrids\\LVG152 rnhC-PAmCherry\\2022-10-15 rnhc\\0.531mW\"\n",
    "# labels folder\n",
    "labels_fld = r\"T:\\MIGRATED\\Lab_Members\\Daniel_Foust\\Data\\RNA-DNA Hybrids\\LVG152 rnhC-PAmCherry\\2022-10-15 rnhc\\0.531mW\"\n",
    "# tracks folder\n",
    "tracks_fld = r\"T:\\MIGRATED\\Lab_Members\\Daniel_Foust\\Data\\RNA-DNA Hybrids\\LVG152 rnhC-PAmCherry\\2022-10-15 rnhc\\0.531mW\\palmari-default\"\n",
    "\n",
    "mov_file = r\"bsub_rnhc-pamch_531uW_001.nd2\"\n",
    "ref_file = r\"bsub_rnhc-pamch_531uW_001.tif\"\n",
    "labels_file = r\"bsub_rnhc-pamch_531uW_001_seg.npy\"\n",
    "tracks_file = r\"bsub_rnhc-pamch_531uW_001.locs\"\n",
    "\n",
    "mov = AICSImage(os.path.join(mov_fld, mov_file))\n",
    "ref = AICSImage(os.path.join(ref_fld, ref_file))"
   ]
  },
  {
   "cell_type": "code",
   "execution_count": 35,
   "metadata": {},
   "outputs": [],
   "source": [
    "mov_fld = r\"T:\\MIGRATED\\Lab_Members\\Daniel_Foust\\Data\\RNA-DNA Hybrids\\JRC12 rnhC-PAmCherry DnaX-mCitrine\\2023-02-22_jrc12-1_hpura_750uW_20ms\"\n",
    "mov_files = glob(os.path.join(mov_fld, '*[02468].nd2'))\n",
    "\n",
    "for mf in mov_files:\n",
    "    mov = AICSImage(mf)\n",
    "    viewer.add_image(mov.dask_data, name=pathlib.Path(mf).stem, visible=False)"
   ]
  }
 ],
 "metadata": {
  "kernelspec": {
   "display_name": "napari-env",
   "language": "python",
   "name": "python3"
  },
  "language_info": {
   "codemirror_mode": {
    "name": "ipython",
    "version": 3
   },
   "file_extension": ".py",
   "mimetype": "text/x-python",
   "name": "python",
   "nbconvert_exporter": "python",
   "pygments_lexer": "ipython3",
   "version": "3.9.18"
  },
  "orig_nbformat": 4
 },
 "nbformat": 4,
 "nbformat_minor": 2
}

{
 "cells": [
  {
   "cell_type": "markdown",
   "metadata": {},
   "source": [
    "# Running State Arrays on SMALL-LABS formatted data"
   ]
  },
  {
   "cell_type": "markdown",
   "metadata": {},
   "source": [
    "## Setup environment"
   ]
  },
  {
   "cell_type": "code",
   "execution_count": 28,
   "metadata": {},
   "outputs": [
    {
     "name": "stdout",
     "output_type": "stream",
     "text": [
      "Requirement already satisfied: saspt in c:\\users\\djfoust\\anaconda3\\envs\\saspt_env\\lib\\site-packages (0.3.0)\n",
      "Requirement already satisfied: numpy in c:\\users\\djfoust\\anaconda3\\envs\\saspt_env\\lib\\site-packages (from saspt) (1.26.0)\n",
      "Requirement already satisfied: scipy in c:\\users\\djfoust\\anaconda3\\envs\\saspt_env\\lib\\site-packages (from saspt) (1.11.3)\n",
      "Requirement already satisfied: pandas in c:\\users\\djfoust\\anaconda3\\envs\\saspt_env\\lib\\site-packages (from saspt) (2.1.1)\n",
      "Requirement already satisfied: matplotlib in c:\\users\\djfoust\\anaconda3\\envs\\saspt_env\\lib\\site-packages (from saspt) (3.8.0)\n",
      "Requirement already satisfied: seaborn in c:\\users\\djfoust\\anaconda3\\envs\\saspt_env\\lib\\site-packages (from saspt) (0.12.2)\n",
      "Requirement already satisfied: tqdm in c:\\users\\djfoust\\anaconda3\\envs\\saspt_env\\lib\\site-packages (from saspt) (4.65.0)\n",
      "Requirement already satisfied: dask in c:\\users\\djfoust\\anaconda3\\envs\\saspt_env\\lib\\site-packages (from saspt) (2023.6.0)\n",
      "Requirement already satisfied: click>=8.0 in c:\\users\\djfoust\\anaconda3\\envs\\saspt_env\\lib\\site-packages (from dask->saspt) (8.1.7)\n",
      "Requirement already satisfied: cloudpickle>=1.5.0 in c:\\users\\djfoust\\anaconda3\\envs\\saspt_env\\lib\\site-packages (from dask->saspt) (2.2.1)\n",
      "Requirement already satisfied: fsspec>=2021.09.0 in c:\\users\\djfoust\\anaconda3\\envs\\saspt_env\\lib\\site-packages (from dask->saspt) (2023.10.0)\n",
      "Requirement already satisfied: packaging>=20.0 in c:\\users\\djfoust\\anaconda3\\envs\\saspt_env\\lib\\site-packages (from dask->saspt) (23.1)\n",
      "Requirement already satisfied: partd>=1.2.0 in c:\\users\\djfoust\\anaconda3\\envs\\saspt_env\\lib\\site-packages (from dask->saspt) (1.4.1)\n",
      "Requirement already satisfied: pyyaml>=5.3.1 in c:\\users\\djfoust\\anaconda3\\envs\\saspt_env\\lib\\site-packages (from dask->saspt) (6.0.1)\n",
      "Requirement already satisfied: toolz>=0.10.0 in c:\\users\\djfoust\\anaconda3\\envs\\saspt_env\\lib\\site-packages (from dask->saspt) (0.12.0)\n",
      "Requirement already satisfied: importlib-metadata>=4.13.0 in c:\\users\\djfoust\\anaconda3\\envs\\saspt_env\\lib\\site-packages (from dask->saspt) (6.0.0)\n",
      "Requirement already satisfied: contourpy>=1.0.1 in c:\\users\\djfoust\\anaconda3\\envs\\saspt_env\\lib\\site-packages (from matplotlib->saspt) (1.2.0)\n",
      "Requirement already satisfied: cycler>=0.10 in c:\\users\\djfoust\\anaconda3\\envs\\saspt_env\\lib\\site-packages (from matplotlib->saspt) (0.11.0)\n",
      "Requirement already satisfied: fonttools>=4.22.0 in c:\\users\\djfoust\\anaconda3\\envs\\saspt_env\\lib\\site-packages (from matplotlib->saspt) (4.25.0)\n",
      "Requirement already satisfied: kiwisolver>=1.0.1 in c:\\users\\djfoust\\anaconda3\\envs\\saspt_env\\lib\\site-packages (from matplotlib->saspt) (1.4.4)\n",
      "Requirement already satisfied: pillow>=6.2.0 in c:\\users\\djfoust\\anaconda3\\envs\\saspt_env\\lib\\site-packages (from matplotlib->saspt) (10.0.1)\n",
      "Requirement already satisfied: pyparsing>=2.3.1 in c:\\users\\djfoust\\anaconda3\\envs\\saspt_env\\lib\\site-packages (from matplotlib->saspt) (3.0.9)\n",
      "Requirement already satisfied: python-dateutil>=2.7 in c:\\users\\djfoust\\anaconda3\\envs\\saspt_env\\lib\\site-packages (from matplotlib->saspt) (2.8.2)\n",
      "Requirement already satisfied: importlib-resources>=3.2.0 in c:\\users\\djfoust\\anaconda3\\envs\\saspt_env\\lib\\site-packages (from matplotlib->saspt) (6.1.0)\n",
      "Requirement already satisfied: pytz>=2020.1 in c:\\users\\djfoust\\anaconda3\\envs\\saspt_env\\lib\\site-packages (from pandas->saspt) (2023.3.post1)\n",
      "Requirement already satisfied: tzdata>=2022.1 in c:\\users\\djfoust\\anaconda3\\envs\\saspt_env\\lib\\site-packages (from pandas->saspt) (2023.3)\n",
      "Requirement already satisfied: colorama in c:\\users\\djfoust\\anaconda3\\envs\\saspt_env\\lib\\site-packages (from tqdm->saspt) (0.4.6)\n",
      "Requirement already satisfied: zipp>=0.5 in c:\\users\\djfoust\\anaconda3\\envs\\saspt_env\\lib\\site-packages (from importlib-metadata>=4.13.0->dask->saspt) (3.11.0)\n",
      "Requirement already satisfied: locket in c:\\users\\djfoust\\anaconda3\\envs\\saspt_env\\lib\\site-packages (from partd>=1.2.0->dask->saspt) (1.0.0)\n",
      "Requirement already satisfied: six>=1.5 in c:\\users\\djfoust\\anaconda3\\envs\\saspt_env\\lib\\site-packages (from python-dateutil>=2.7->matplotlib->saspt) (1.16.0)\n"
     ]
    }
   ],
   "source": [
    "!pip install saspt"
   ]
  },
  {
   "cell_type": "markdown",
   "metadata": {},
   "source": [
    "## Imports"
   ]
  },
  {
   "cell_type": "code",
   "execution_count": 43,
   "metadata": {},
   "outputs": [],
   "source": [
    "from glob import glob\n",
    "import logging\n",
    "from os.path import join\n",
    "from pathlib import Path\n",
    "\n",
    "import matplotlib as mpl\n",
    "import matplotlib.pyplot as plt\n",
    "from matplotlib.backends.backend_pdf import PdfPages\n",
    "import matplotlib_scalebar.scalebar as sb\n",
    "import numpy as np\n",
    "from numpy.linalg import matrix_power\n",
    "import pandas as pd\n",
    "import scipy.io\n",
    "from skimage.measure import find_contours, regionprops\n",
    "\n",
    "from saspt import sample_detections, StateArray, StateArrayDataset, RBME\n",
    "from saspt.lik import RBMELikelihood\n",
    "import biteen_utilities as bu"
   ]
  },
  {
   "cell_type": "code",
   "execution_count": 44,
   "metadata": {},
   "outputs": [
    {
     "name": "stdout",
     "output_type": "stream",
     "text": [
      "The autoreload extension is already loaded. To reload it, use:\n",
      "  %reload_ext autoreload\n"
     ]
    }
   ],
   "source": [
    "%load_ext autoreload\n",
    "%autoreload 2\n",
    "\n",
    "logging.getLogger('matplotlib.font_manager').disabled = True"
   ]
  },
  {
   "cell_type": "markdown",
   "metadata": {},
   "source": [
    "## Load data"
   ]
  },
  {
   "cell_type": "markdown",
   "metadata": {},
   "source": [
    "### Find fits files"
   ]
  },
  {
   "cell_type": "code",
   "execution_count": 5,
   "metadata": {},
   "outputs": [
    {
     "name": "stdout",
     "output_type": "stream",
     "text": [
      "21 fits files found!\n"
     ]
    }
   ],
   "source": [
    "fits_folder = r\"T:\\MIGRATED\\Lab_Members\\Daniel_Foust\\Data\\State Arrays\\Lauren\"\n",
    "fits_pattern = r\"*_fits.mat\"\n",
    "fits_files = glob(join(fits_folder, r\"*_fits.mat\"))\n",
    "\n",
    "print(\"{} fits files found!\".format(len(fits_files)))"
   ]
  },
  {
   "cell_type": "markdown",
   "metadata": {},
   "source": [
    "### Find phase masks (labels)"
   ]
  },
  {
   "cell_type": "code",
   "execution_count": 7,
   "metadata": {},
   "outputs": [
    {
     "name": "stdout",
     "output_type": "stream",
     "text": [
      "21 labels files found!\n"
     ]
    }
   ],
   "source": [
    "labels_folder = r\"T:\\MIGRATED\\Lab_Members\\Daniel_Foust\\Data\\State Arrays\\Lauren\"\n",
    "labels_pattern = r\"*_PhaseMask.mat\"\n",
    "labels_files = glob(join(labels_folder, labels_pattern))\n",
    "\n",
    "print(\"{} labels files found!\".format(len(labels_files)))"
   ]
  },
  {
   "cell_type": "markdown",
   "metadata": {},
   "source": [
    "### Read fits and labels"
   ]
  },
  {
   "cell_type": "code",
   "execution_count": 8,
   "metadata": {},
   "outputs": [
    {
     "name": "stdout",
     "output_type": "stream",
     "text": [
      "Load data for T:\\MIGRATED\\Lab_Members\\Daniel_Foust\\Data\\State Arrays\\Lauren\\230210_cwx2695_2_5hr_001_AccBGSUB_fits.mat and T:\\MIGRATED\\Lab_Members\\Daniel_Foust\\Data\\State Arrays\\Lauren\\230210_cwx2695_2_5hr_001_PhaseMask.mat\n",
      "Load data for T:\\MIGRATED\\Lab_Members\\Daniel_Foust\\Data\\State Arrays\\Lauren\\230210_cwx2695_2_5hr_002_AccBGSUB_fits.mat and T:\\MIGRATED\\Lab_Members\\Daniel_Foust\\Data\\State Arrays\\Lauren\\230210_cwx2695_2_5hr_002_PhaseMask.mat\n",
      "Load data for T:\\MIGRATED\\Lab_Members\\Daniel_Foust\\Data\\State Arrays\\Lauren\\230210_cwx2695_2_5hr_003_AccBGSUB_fits.mat and T:\\MIGRATED\\Lab_Members\\Daniel_Foust\\Data\\State Arrays\\Lauren\\230210_cwx2695_2_5hr_003_PhaseMask.mat\n",
      "Load data for T:\\MIGRATED\\Lab_Members\\Daniel_Foust\\Data\\State Arrays\\Lauren\\230210_cwx2695_2_5hr_004_AccBGSUB_fits.mat and T:\\MIGRATED\\Lab_Members\\Daniel_Foust\\Data\\State Arrays\\Lauren\\230210_cwx2695_2_5hr_004_PhaseMask.mat\n",
      "Load data for T:\\MIGRATED\\Lab_Members\\Daniel_Foust\\Data\\State Arrays\\Lauren\\230210_cwx2695_2_5hr_005_AccBGSUB_fits.mat and T:\\MIGRATED\\Lab_Members\\Daniel_Foust\\Data\\State Arrays\\Lauren\\230210_cwx2695_2_5hr_005_PhaseMask.mat\n",
      "Load data for T:\\MIGRATED\\Lab_Members\\Daniel_Foust\\Data\\State Arrays\\Lauren\\230210_cwx2695_2_5hr_006_AccBGSUB_fits.mat and T:\\MIGRATED\\Lab_Members\\Daniel_Foust\\Data\\State Arrays\\Lauren\\230210_cwx2695_2_5hr_006_PhaseMask.mat\n",
      "Load data for T:\\MIGRATED\\Lab_Members\\Daniel_Foust\\Data\\State Arrays\\Lauren\\230210_cwx2695_c2_2_5hr_001_AccBGSUB_fits.mat and T:\\MIGRATED\\Lab_Members\\Daniel_Foust\\Data\\State Arrays\\Lauren\\230210_cwx2695_c2_2_5hr_001_PhaseMask.mat\n",
      "Load data for T:\\MIGRATED\\Lab_Members\\Daniel_Foust\\Data\\State Arrays\\Lauren\\230210_cwx2695_c2_2_5hr_002_AccBGSUB_fits.mat and T:\\MIGRATED\\Lab_Members\\Daniel_Foust\\Data\\State Arrays\\Lauren\\230210_cwx2695_c2_2_5hr_002_PhaseMask.mat\n",
      "Load data for T:\\MIGRATED\\Lab_Members\\Daniel_Foust\\Data\\State Arrays\\Lauren\\230210_cwx2695_c2_2_5hr_003_AccBGSUB_fits.mat and T:\\MIGRATED\\Lab_Members\\Daniel_Foust\\Data\\State Arrays\\Lauren\\230210_cwx2695_c2_2_5hr_003_PhaseMask.mat\n",
      "Load data for T:\\MIGRATED\\Lab_Members\\Daniel_Foust\\Data\\State Arrays\\Lauren\\230210_cwx2695_c2_2_5hr_004_AccBGSUB_fits.mat and T:\\MIGRATED\\Lab_Members\\Daniel_Foust\\Data\\State Arrays\\Lauren\\230210_cwx2695_c2_2_5hr_004_PhaseMask.mat\n",
      "Load data for T:\\MIGRATED\\Lab_Members\\Daniel_Foust\\Data\\State Arrays\\Lauren\\230210_cwx2695_c2_2_5hr_005_AccBGSUB_fits.mat and T:\\MIGRATED\\Lab_Members\\Daniel_Foust\\Data\\State Arrays\\Lauren\\230210_cwx2695_c2_2_5hr_005_PhaseMask.mat\n",
      "Load data for T:\\MIGRATED\\Lab_Members\\Daniel_Foust\\Data\\State Arrays\\Lauren\\230210_cwx2695_c2_2_5hr_006_AccBGSUB_fits.mat and T:\\MIGRATED\\Lab_Members\\Daniel_Foust\\Data\\State Arrays\\Lauren\\230210_cwx2695_c2_2_5hr_006_PhaseMask.mat\n",
      "Load data for T:\\MIGRATED\\Lab_Members\\Daniel_Foust\\Data\\State Arrays\\Lauren\\230213_cwx2695_2_5hr_001_AccBGSUB_fits.mat and T:\\MIGRATED\\Lab_Members\\Daniel_Foust\\Data\\State Arrays\\Lauren\\230213_cwx2695_2_5hr_001_PhaseMask.mat\n",
      "Load data for T:\\MIGRATED\\Lab_Members\\Daniel_Foust\\Data\\State Arrays\\Lauren\\230213_cwx2695_2_5hr_002_AccBGSUB_fits.mat and T:\\MIGRATED\\Lab_Members\\Daniel_Foust\\Data\\State Arrays\\Lauren\\230213_cwx2695_2_5hr_002_PhaseMask.mat\n",
      "Load data for T:\\MIGRATED\\Lab_Members\\Daniel_Foust\\Data\\State Arrays\\Lauren\\230213_cwx2695_2_5hr_003_AccBGSUB_fits.mat and T:\\MIGRATED\\Lab_Members\\Daniel_Foust\\Data\\State Arrays\\Lauren\\230213_cwx2695_2_5hr_003_PhaseMask.mat\n",
      "Load data for T:\\MIGRATED\\Lab_Members\\Daniel_Foust\\Data\\State Arrays\\Lauren\\230213_cwx2695_2_5hr_004_AccBGSUB_fits.mat and T:\\MIGRATED\\Lab_Members\\Daniel_Foust\\Data\\State Arrays\\Lauren\\230213_cwx2695_2_5hr_004_PhaseMask.mat\n",
      "Load data for T:\\MIGRATED\\Lab_Members\\Daniel_Foust\\Data\\State Arrays\\Lauren\\230213_cwx2695_2_5hr_005_AccBGSUB_fits.mat and T:\\MIGRATED\\Lab_Members\\Daniel_Foust\\Data\\State Arrays\\Lauren\\230213_cwx2695_2_5hr_005_PhaseMask.mat\n",
      "Load data for T:\\MIGRATED\\Lab_Members\\Daniel_Foust\\Data\\State Arrays\\Lauren\\230213_cwx2695_2_5hr_006_AccBGSUB_fits.mat and T:\\MIGRATED\\Lab_Members\\Daniel_Foust\\Data\\State Arrays\\Lauren\\230213_cwx2695_2_5hr_006_PhaseMask.mat\n",
      "Load data for T:\\MIGRATED\\Lab_Members\\Daniel_Foust\\Data\\State Arrays\\Lauren\\230213_cwx2695_2_5hr_007_AccBGSUB_fits.mat and T:\\MIGRATED\\Lab_Members\\Daniel_Foust\\Data\\State Arrays\\Lauren\\230213_cwx2695_2_5hr_007_PhaseMask.mat\n",
      "Load data for T:\\MIGRATED\\Lab_Members\\Daniel_Foust\\Data\\State Arrays\\Lauren\\230213_cwx2695_2_5hr_008_AccBGSUB_fits.mat and T:\\MIGRATED\\Lab_Members\\Daniel_Foust\\Data\\State Arrays\\Lauren\\230213_cwx2695_2_5hr_008_PhaseMask.mat\n",
      "Load data for T:\\MIGRATED\\Lab_Members\\Daniel_Foust\\Data\\State Arrays\\Lauren\\230213_cwx2695_2_5hr_009_AccBGSUB_fits.mat and T:\\MIGRATED\\Lab_Members\\Daniel_Foust\\Data\\State Arrays\\Lauren\\230213_cwx2695_2_5hr_009_PhaseMask.mat\n"
     ]
    }
   ],
   "source": [
    "fits_list = []\n",
    "labels_list = []\n",
    "\n",
    "max_track_id = 0\n",
    "max_label_id = 0\n",
    "\n",
    "for i, (ff, lf) in enumerate(zip(fits_files, labels_files)):\n",
    "    fits_curr = bu.slfile_to_df(ff) # converts SMALL-LABS to pandas DataFrame\n",
    "    fits_curr['movie #'] = i\n",
    "\n",
    "    track_ids = fits_curr['track_id'].dropna().unique()\n",
    "    n_tracks = len(track_ids)\n",
    "    new_track_ids = np.arange(n_tracks) + max_track_id\n",
    "    max_track_id = new_track_ids[-1] + 1\n",
    "    fits_curr['track_id_unique'] = fits_curr['track_id'].replace(track_ids, new_track_ids)\n",
    "\n",
    "    label_ids = fits_curr['roinum'].dropna().unique()\n",
    "    n_labels = len(label_ids)\n",
    "    new_label_ids = np.arange(n_labels) + max_label_id\n",
    "    max_label_id = new_label_ids[-1] + 1\n",
    "    fits_curr['roinum_unique'] = fits_curr['roinum'].replace(label_ids, new_label_ids)\n",
    "    \n",
    "    fits_list.append(fits_curr)\n",
    "    labels_list.append(scipy.io.loadmat(lf)['PhaseMask'])\n",
    "\n",
    "    print(\"Load data for {} and {}\".format(ff, lf))\n",
    "\n",
    "# Aggregate fits into single DataFrame\n",
    "fits_all = pd.concat(fits_list, ignore_index=True)"
   ]
  },
  {
   "cell_type": "markdown",
   "metadata": {},
   "source": [
    "## Clean up data"
   ]
  },
  {
   "cell_type": "markdown",
   "metadata": {},
   "source": [
    "### Exclude bad fits"
   ]
  },
  {
   "cell_type": "code",
   "execution_count": 9,
   "metadata": {},
   "outputs": [],
   "source": [
    "fits_all = fits_all[fits_all['goodfit']==True]"
   ]
  },
  {
   "cell_type": "markdown",
   "metadata": {},
   "source": [
    "### Exclude short tracks"
   ]
  },
  {
   "cell_type": "code",
   "execution_count": 10,
   "metadata": {},
   "outputs": [],
   "source": [
    "fits_all = bu.filter_by_nlocs(fits_all,\n",
    "                              min_locs=6,\n",
    "                              max_locs=np.inf,\n",
    "                              track_col='track_id')"
   ]
  },
  {
   "cell_type": "markdown",
   "metadata": {},
   "source": [
    "## Calculate State Array"
   ]
  },
  {
   "cell_type": "markdown",
   "metadata": {},
   "source": [
    "### Rename some columns\n",
    "saspt expects columns with specific names. We change SMALL-LABS column labels to labels accepted by saspt."
   ]
  },
  {
   "cell_type": "code",
   "execution_count": 14,
   "metadata": {},
   "outputs": [],
   "source": [
    "fits_sa = fits_all.rename(columns={'col': 'x', \n",
    "                                   'row': 'y', \n",
    "                                   'track_id_unique': 'trajectory'})"
   ]
  },
  {
   "cell_type": "markdown",
   "metadata": {},
   "source": [
    "### Define State Array"
   ]
  },
  {
   "cell_type": "code",
   "execution_count": 15,
   "metadata": {},
   "outputs": [
    {
     "name": "stderr",
     "output_type": "stream",
     "text": [
      "c:\\Users\\djfoust\\Anaconda3\\envs\\saspt_env\\lib\\site-packages\\saspt\\trajectory_group.py:136: SettingWithCopyWarning: \n",
      "A value is trying to be set on a copy of a slice from a DataFrame.\n",
      "Try using .loc[row_indexer,col_indexer] = value instead\n",
      "\n",
      "See the caveats in the documentation: https://pandas.pydata.org/pandas-docs/stable/user_guide/indexing.html#returning-a-view-versus-a-copy\n",
      "  detections[cls.DETECT_INDEX] = np.arange(len(detections), dtype=np.int64)\n"
     ]
    }
   ],
   "source": [
    "settings = dict(\n",
    "    likelihood_type = RBME, # model that includes Brownian motion and localization error\n",
    "    pixel_size_um = 0.049,  \n",
    "    frame_interval = 0.04,  # in seconds\n",
    "    focal_depth = np.inf,   # maybe should play around with this\n",
    "    progress_bar = True,\n",
    ")\n",
    "\n",
    "SA = StateArray.from_detections(fits_sa[['x', 'y', 'trajectory', 'frame']], **settings)\n",
    "\n",
    "# can ignore SettingWithCopyWarning"
   ]
  },
  {
   "cell_type": "markdown",
   "metadata": {},
   "source": [
    "### Overwrite default likelihood model"
   ]
  },
  {
   "cell_type": "code",
   "execution_count": 19,
   "metadata": {},
   "outputs": [],
   "source": [
    "rbme_likelihood = RBMELikelihood(\n",
    "    pixel_size_um = 0.049,\n",
    "    frame_interval = 0.04,\n",
    "    focal_depth = np.inf,\n",
    "    diff_coefs = np.logspace(-3, 1, 100), # adjust diffusion coefficients to consider here\n",
    "    loc_errors = np.linspace(0, 0.1, 30)  # adjust localization errors to consider here\n",
    "    )\n",
    "\n",
    "SA.likelihood = rbme_likelihood"
   ]
  },
  {
   "cell_type": "markdown",
   "metadata": {},
   "source": [
    "### Calculate State Arrays"
   ]
  },
  {
   "cell_type": "code",
   "execution_count": 20,
   "metadata": {},
   "outputs": [
    {
     "name": "stdout",
     "output_type": "stream",
     "text": [
      "inferring posterior distribution...\n"
     ]
    },
    {
     "name": "stderr",
     "output_type": "stream",
     "text": [
      "100%|██████████| 200/200 [00:27<00:00,  7.32it/s]\n"
     ]
    }
   ],
   "source": [
    "SA.posterior_assignment_probabilities;"
   ]
  },
  {
   "cell_type": "markdown",
   "metadata": {},
   "source": [
    "## Secondary calculations"
   ]
  },
  {
   "cell_type": "markdown",
   "metadata": {},
   "source": [
    "### Posterior occupancy marginalized on diffusion coefficient"
   ]
  },
  {
   "cell_type": "code",
   "execution_count": 23,
   "metadata": {},
   "outputs": [
    {
     "name": "stdout",
     "output_type": "stream",
     "text": [
      "(100,)\n"
     ]
    }
   ],
   "source": [
    "postoccs_all = SA.posterior_occs.sum(axis=1)\n",
    "print(postoccs_all.shape)"
   ]
  },
  {
   "cell_type": "markdown",
   "metadata": {},
   "source": [
    "### Occupancy by label"
   ]
  },
  {
   "cell_type": "code",
   "execution_count": 186,
   "metadata": {},
   "outputs": [],
   "source": [
    "sa_detections = SA.trajectories.detections\n",
    "fits_all.loc[sa_detections['detect_index'], 'track_id_SA'] = sa_detections['trajectory']\n",
    "\n",
    "postoccs_labels = []\n",
    "\n",
    "for label in fits_all['roinum_unique'].unique():\n",
    "    track_ids_label = fits_all[fits_all['roinum_unique']==label]['track_id_SA'].dropna().unique().astype('int')\n",
    "    postoccs_labels.append((postoccs_tracks[:,track_ids_label] \n",
    "                      * SA.jumps_per_track[track_ids_label]).sum(axis=1) \n",
    "                      / SA.jumps_per_track[track_ids_label].sum())\n",
    "    \n",
    "postoccs_labels = np.array(postoccs_labels).T"
   ]
  },
  {
   "cell_type": "markdown",
   "metadata": {},
   "source": [
    "### Average diffusion coefficient for each track"
   ]
  },
  {
   "cell_type": "code",
   "execution_count": 27,
   "metadata": {},
   "outputs": [
    {
     "name": "stdout",
     "output_type": "stream",
     "text": [
      "num_diff_coef: 100, num_tracks: 6413\n"
     ]
    }
   ],
   "source": [
    "postoccs_tracks = SA.posterior_assignment_probabilities.sum(axis=1) # for each individual track, marginalized on diffusion coefficient\n",
    "Dav_track = (postoccs_tracks * SA.diff_coefs[:,None]).sum(axis=0)\n",
    "\n",
    "sa_detections['D_av'] = Dav_track[sa_detections['trajectory']]\n",
    "print('num_diff_coef: {}, num_tracks: {}'.format(*postoccs_tracks.shape))"
   ]
  },
  {
   "cell_type": "markdown",
   "metadata": {},
   "source": [
    "### Diffusion coefficient at peak position"
   ]
  },
  {
   "cell_type": "code",
   "execution_count": 141,
   "metadata": {},
   "outputs": [],
   "source": [
    "idx_D_max = np.argmax(postoccs_tracks, axis=0)\n",
    "D_max = diff_coefs[idx_D_max]\n",
    "\n",
    "sa_detections['idx_D_max'] = idx_D_max[sa_detections['trajectory']]\n",
    "sa_detections['D_max'] = D_max[sa_detections['trajectory']]"
   ]
  },
  {
   "cell_type": "markdown",
   "metadata": {},
   "source": [
    "### Merge SA results with original data"
   ]
  },
  {
   "cell_type": "code",
   "execution_count": 113,
   "metadata": {},
   "outputs": [],
   "source": [
    "fits_all['track_id_SA'] = np.nan\n",
    "# fits_all.loc[sa_detections['detect_index'], 'track_id_SA'] = sa_detections['trajectory']\n",
    "fits_all.loc[sa_detections['detect_index'], 'D_av'] = sa_detections['D_av']\n",
    "fits_all.loc[sa_detections['detect_index'], 'idx_D_max'] = sa_detections['idx_D_max']\n",
    "fits_all.loc[sa_detections['detect_index'], 'D_max'] = sa_detections['D_max']\n",
    "\n",
    "fits_all['log10(D_av)'] = np.log10(fits_all['D_av'])"
   ]
  },
  {
   "cell_type": "markdown",
   "metadata": {},
   "source": [
    "## Plotting"
   ]
  },
  {
   "cell_type": "markdown",
   "metadata": {},
   "source": [
    "### Setup color map"
   ]
  },
  {
   "cell_type": "code",
   "execution_count": 29,
   "metadata": {},
   "outputs": [],
   "source": [
    "def linear_ramp_cmap(cmap=mpl.cm.cool, vmin=0, vmax=1, lmin=0.25, lmax=0.75, name='lr_cmap'):\n",
    "    \"\"\"\n",
    "    Color is constant (min) between vmin and lmin, follows cmap between lmin and lmax, and constant (max) between lmax and vmax.\n",
    "\n",
    "    Parameters\n",
    "    ----------\n",
    "    \n",
    "\n",
    "    Returns\n",
    "    -------\n",
    "\n",
    "    \"\"\"\n",
    "    x = np.linspace(0, 1, 256)\n",
    "    n_min = len(x[x<(lmin-vmin) / (vmax - vmin)])\n",
    "    n_max = len(x[x>(lmax-vmin) / (vmax - vmin)])\n",
    "\n",
    "    seg1 = np.array(n_min * [cmap(0.),])\n",
    "    seg2 = cmap(np.linspace(0, 1, 256-n_min-n_max))\n",
    "    seg3 = np.array(n_max * [cmap(1.),])\n",
    "\n",
    "    colors = np.vstack((seg1, seg2, seg3))\n",
    "\n",
    "    lr_cmap = mpl.colors.ListedColormap(colors=colors, N=256, name=name)\n",
    "\n",
    "    return lr_cmap"
   ]
  },
  {
   "cell_type": "code",
   "execution_count": 31,
   "metadata": {},
   "outputs": [],
   "source": [
    "coolramp = linear_ramp_cmap(cmap=mpl.cm.cool, vmin=-3, vmax=1, lmin=-2, lmax=0, name='coolramp')"
   ]
  },
  {
   "cell_type": "code",
   "execution_count": 32,
   "metadata": {},
   "outputs": [],
   "source": [
    "diff_coefs = SA.diff_coefs"
   ]
  },
  {
   "cell_type": "markdown",
   "metadata": {},
   "source": [
    "### Overall posterior occupancy"
   ]
  },
  {
   "cell_type": "code",
   "execution_count": 129,
   "metadata": {},
   "outputs": [],
   "source": [
    "locs_per_track = np.array([len(fits_all['track_id_SA']==-tid) for tid in fits_all['track_id_SA'].dropna().unique()])"
   ]
  },
  {
   "cell_type": "code",
   "execution_count": 134,
   "metadata": {},
   "outputs": [],
   "source": [
    "postoccs_all_by_locs = (postoccs_tracks * locs_per_track).sum(axis=1) / locs_per_track.sum()"
   ]
  },
  {
   "cell_type": "code",
   "execution_count": 189,
   "metadata": {},
   "outputs": [],
   "source": [
    "def plot_occs(diff_coefs,\n",
    "              occs,\n",
    "              suboccs=None,\n",
    "              cmap=None,\n",
    "              figprops={'figsize': (4,4)},\n",
    "              lineprops={'color': 'xkcd:black', 'lw': 3},\n",
    "              sublineprops={'color': 'xkcd:grey', 'lw': 1.5, 'alpha': 0.1},\n",
    "              labelsize=14,\n",
    "              ax=None):\n",
    "    \"\"\"\n",
    "\n",
    "    \n",
    "    Parameters\n",
    "    ----------\n",
    "\n",
    "    \n",
    "    Returns\n",
    "    -------\n",
    "\n",
    "    \"\"\"\n",
    "    if ax is None:\n",
    "        fig, ax = plt.subplots(1, 1, **figprops)\n",
    "\n",
    "    if suboccs is not None:\n",
    "        ax.plot(diff_coefs, suboccs, **sublineprops)\n",
    "    ax.plot(diff_coefs, occs, **lineprops)\n",
    "    ax.set_xscale('log')\n",
    "    ax.set_xlim(left=diff_coefs[0], right=diff_coefs[-1])\n",
    "    ax.set_ylim(bottom=0)\n",
    "    ax.set_ylabel('Occupation', fontsize=labelsize)\n",
    "\n",
    "    if cmap is not None:\n",
    "        ax.set_xticks([]) # hide default ticks\n",
    "        norm = mpl.colors.LogNorm(vmin=diff_coefs[0], vmax=diff_coefs[-1])\n",
    "        sm = mpl.cm.ScalarMappable(norm=norm, cmap=coolramp)\n",
    "        cbar = plt.colorbar(\n",
    "            sm,\n",
    "            orientation='horizontal',\n",
    "            ticks=10**np.arange(np.floor(np.log10(diff_coefs[0])), np.ceil(np.log10(diff_coefs[-1]))+1),\n",
    "            ax=ax,\n",
    "            label='$D_{app}\\ (\\mu m^2/s)$',\n",
    "            pad=0\n",
    "            )\n",
    "        cbar.solids.set(alpha=1) # force alpha=1\n",
    "        xticklabels = ['$\\\\mathdefault{10^{'+str(num)+'}}$' for num in np.arange(\n",
    "            np.floor(np.log10(diff_coefs[0])),\n",
    "            np.ceil(np.log10(diff_coefs[-1]))+1,\n",
    "            dtype='int'\n",
    "            )]\n",
    "        cbar.ax.set_xticklabels(xticklabels)\n",
    "        cbar.set_label(r'$D_{app}\\ (\\mu m^2/s)$', fontsize=labelsize)\n",
    "    else:\n",
    "        ax.set_xlabel(r'$D_{app}\\ (\\mu m^2/s)$', fontsize=labelsize)\n",
    "    ;\n",
    "    return fig, ax"
   ]
  },
  {
   "cell_type": "code",
   "execution_count": 193,
   "metadata": {},
   "outputs": [
    {
     "data": {
      "text/plain": [
       "(<Figure size 400x400 with 2 Axes>, <Axes: ylabel='Occupation'>)"
      ]
     },
     "execution_count": 193,
     "metadata": {},
     "output_type": "execute_result"
    },
    {
     "data": {
      "image/png": "[encoded data removed]",
      "text/plain": [
       "<Figure size 400x400 with 2 Axes>"
      ]
     },
     "metadata": {},
     "output_type": "display_data"
    }
   ],
   "source": [
    "plot_occs(diff_coefs,\n",
    "          postoccs_all,\n",
    "          suboccs=postoccs_labels,\n",
    "          cmap=coolramp,\n",
    "          sublineprops={'lw': 1.5, 'color': 'xkcd:black', 'alpha': 0.1})"
   ]
  },
  {
   "cell_type": "code",
   "execution_count": 262,
   "metadata": {},
   "outputs": [],
   "source": [
    "def plot_occs_w_fill(diff_coefs,\n",
    "              occs,\n",
    "              ranges,\n",
    "              colors,\n",
    "              figprops={'figsize': (4,4)},\n",
    "              lineprops={'color': 'xkcd:black', 'lw': 3},\n",
    "              labelsize=14,\n",
    "              ax=None):\n",
    "    \"\"\"\n",
    "\n",
    "    \n",
    "    Parameters\n",
    "    ----------\n",
    "\n",
    "    \n",
    "    Returns\n",
    "    -------\n",
    "\n",
    "    \"\"\"\n",
    "    if ax is None:\n",
    "        fig, ax = plt.subplots(1, 1, **figprops)\n",
    "\n",
    "    focc = interp1d(diff_coefs, occs)\n",
    "\n",
    "    for i, (l, h) in enumerate(ranges):\n",
    "        diff_filt = (diff_coefs >= l) & (diff_coefs < h)\n",
    "        diff_coefs_range = np.concatenate(([l],\n",
    "                                           diff_coefs[diff_filt],\n",
    "                                           [h]))\n",
    "        occs_range = np.concatenate(([focc(l)],\n",
    "                                     occs[diff_filt], \n",
    "                                     [focc(h)]))\n",
    "        poly = ax.fill_between(x=diff_coefs_range, y1=occs_range, color=colors[i])\n",
    "        print(poly)\n",
    "        (x0, y0), (x1, y1) = poly.get_paths()[0].get_extents().get_points()\n",
    "        w = occs[diff_filt].sum()\n",
    "        t = ax.text(np.median(diff_coefs_range), #(x0 + x1) / 2,\n",
    "                (y0 + y1) / 2, \n",
    "                \"{:.2f}\".format(w), \n",
    "                ha='center', \n",
    "                va='center', \n",
    "                fontsize=14, \n",
    "                color='xkcd:black')\n",
    "        t.set_bbox({'facecolor': 'xkcd:white', 'alpha': 0.5, 'edgecolor': 'none'})\n",
    "    ax.plot(diff_coefs, occs, **lineprops)\n",
    "    ax.set_xscale('log')\n",
    "    ax.set_xlim(left=diff_coefs[0], right=diff_coefs[-1])\n",
    "    ax.set_ylim(bottom=0)\n",
    "    ax.set_ylabel('Occupation', fontsize=labelsize)\n",
    "    ax.set_xlabel(r'$D_{app}\\ (\\mu m^2/s)$', fontsize=labelsize)\n",
    "\n",
    "    return fig, ax"
   ]
  },
  {
   "cell_type": "code",
   "execution_count": 239,
   "metadata": {},
   "outputs": [
    {
     "name": "stdout",
     "output_type": "stream",
     "text": [
      "Help on method text in module matplotlib.axes._axes:\n",
      "\n",
      "text(x, y, s, fontdict=None, **kwargs) method of matplotlib.axes._axes.Axes instance\n",
      "    Add text to the Axes.\n",
      "    \n",
      "    Add the text *s* to the Axes at location *x*, *y* in data coordinates.\n",
      "    \n",
      "    Parameters\n",
      "    ----------\n",
      "    x, y : float\n",
      "        The position to place the text. By default, this is in data\n",
      "        coordinates. The coordinate system can be changed using the\n",
      "        *transform* parameter.\n",
      "    \n",
      "    s : str\n",
      "        The text.\n",
      "    \n",
      "    fontdict : dict, default: None\n",
      "    \n",
      "        .. admonition:: Discouraged\n",
      "    \n",
      "           The use of *fontdict* is discouraged. Parameters should be passed as\n",
      "           individual keyword arguments or using dictionary-unpacking\n",
      "           ``text(..., **fontdict)``.\n",
      "    \n",
      "        A dictionary to override the default text properties. If fontdict\n",
      "        is None, the defaults are determined by `.rcParams`.\n",
      "    \n",
      "    Returns\n",
      "    -------\n",
      "    `.Text`\n",
      "        The created `.Text` instance.\n",
      "    \n",
      "    Other Parameters\n",
      "    ----------------\n",
      "    **kwargs : `~matplotlib.text.Text` properties.\n",
      "        Other miscellaneous text parameters.\n",
      "    \n",
      "        Properties:\n",
      "        agg_filter: a filter function, which takes a (m, n, 3) float array and a dpi value, and returns a (m, n, 3) array and two offsets from the bottom left corner of the image\n",
      "        alpha: scalar or None\n",
      "        animated: bool\n",
      "        antialiased: bool\n",
      "        backgroundcolor: color\n",
      "        bbox: dict with properties for `.patches.FancyBboxPatch`\n",
      "        clip_box: unknown\n",
      "        clip_on: unknown\n",
      "        clip_path: unknown\n",
      "        color or c: color\n",
      "        figure: `~matplotlib.figure.Figure`\n",
      "        fontfamily or family or fontname: {FONTNAME, 'serif', 'sans-serif', 'cursive', 'fantasy', 'monospace'}\n",
      "        fontproperties or font or font_properties: `.font_manager.FontProperties` or `str` or `pathlib.Path`\n",
      "        fontsize or size: float or {'xx-small', 'x-small', 'small', 'medium', 'large', 'x-large', 'xx-large'}\n",
      "        fontstretch or stretch: {a numeric value in range 0-1000, 'ultra-condensed', 'extra-condensed', 'condensed', 'semi-condensed', 'normal', 'semi-expanded', 'expanded', 'extra-expanded', 'ultra-expanded'}\n",
      "        fontstyle or style: {'normal', 'italic', 'oblique'}\n",
      "        fontvariant or variant: {'normal', 'small-caps'}\n",
      "        fontweight or weight: {a numeric value in range 0-1000, 'ultralight', 'light', 'normal', 'regular', 'book', 'medium', 'roman', 'semibold', 'demibold', 'demi', 'bold', 'heavy', 'extra bold', 'black'}\n",
      "        gid: str\n",
      "        horizontalalignment or ha: {'left', 'center', 'right'}\n",
      "        in_layout: bool\n",
      "        label: object\n",
      "        linespacing: float (multiple of font size)\n",
      "        math_fontfamily: str\n",
      "        mouseover: bool\n",
      "        multialignment or ma: {'left', 'right', 'center'}\n",
      "        parse_math: bool\n",
      "        path_effects: list of `.AbstractPathEffect`\n",
      "        picker: None or bool or float or callable\n",
      "        position: (float, float)\n",
      "        rasterized: bool\n",
      "        rotation: float or {'vertical', 'horizontal'}\n",
      "        rotation_mode: {None, 'default', 'anchor'}\n",
      "        sketch_params: (scale: float, length: float, randomness: float)\n",
      "        snap: bool or None\n",
      "        text: object\n",
      "        transform: `~matplotlib.transforms.Transform`\n",
      "        transform_rotates_text: bool\n",
      "        url: str\n",
      "        usetex: bool or None\n",
      "        verticalalignment or va: {'bottom', 'baseline', 'center', 'center_baseline', 'top'}\n",
      "        visible: bool\n",
      "        wrap: bool\n",
      "        x: float\n",
      "        y: float\n",
      "        zorder: float\n",
      "    \n",
      "    Examples\n",
      "    --------\n",
      "    Individual keyword arguments can be used to override any given\n",
      "    parameter::\n",
      "    \n",
      "        >>> text(x, y, s, fontsize=12)\n",
      "    \n",
      "    The default transform specifies that text is in data coords,\n",
      "    alternatively, you can specify text in axis coords ((0, 0) is\n",
      "    lower-left and (1, 1) is upper-right).  The example below places\n",
      "    text in the center of the Axes::\n",
      "    \n",
      "        >>> text(0.5, 0.5, 'matplotlib', horizontalalignment='center',\n",
      "        ...      verticalalignment='center', transform=ax.transAxes)\n",
      "    \n",
      "    You can put a rectangular box around the text instance (e.g., to\n",
      "    set a background color) by using the keyword *bbox*.  *bbox* is\n",
      "    a dictionary of `~matplotlib.patches.Rectangle`\n",
      "    properties.  For example::\n",
      "    \n",
      "        >>> text(x, y, s, bbox=dict(facecolor='red', alpha=0.5))\n",
      "\n"
     ]
    }
   ],
   "source": [
    "help(ax.text)"
   ]
  },
  {
   "cell_type": "code",
   "execution_count": 204,
   "metadata": {},
   "outputs": [],
   "source": [
    "from scipy.interpolate import interp1d"
   ]
  },
  {
   "cell_type": "code",
   "execution_count": 205,
   "metadata": {},
   "outputs": [
    {
     "data": {
      "text/plain": [
       "<scipy.interpolate._interpolate.interp1d at 0x25b2d7774f0>"
      ]
     },
     "execution_count": 205,
     "metadata": {},
     "output_type": "execute_result"
    }
   ],
   "source": [
    "interp1d(diff_coefs, postoccs_all)"
   ]
  },
  {
   "cell_type": "code",
   "execution_count": 263,
   "metadata": {},
   "outputs": [
    {
     "name": "stdout",
     "output_type": "stream",
     "text": [
      "<matplotlib.collections.PolyCollection object at 0x0000025B36DFB8E0>\n",
      "<matplotlib.collections.PolyCollection object at 0x0000025B36DFBF40>\n"
     ]
    },
    {
     "data": {
      "image/png": "[encoded data removed]",
      "text/plain": [
       "<Figure size 500x400 with 1 Axes>"
      ]
     },
     "metadata": {},
     "output_type": "display_data"
    }
   ],
   "source": [
    "fig, ax = plot_occs_w_fill(diff_coefs,\n",
    "              postoccs_all,\n",
    "              ranges=((1e-3, 2e-2), (1.1e-1, 7e-1)),\n",
    "              colors=('xkcd:cyan', 'xkcd:orange'),\n",
    "              figprops={'figsize': (5,4)},\n",
    "              lineprops={'color': 'xkcd:black', 'lw': 3},\n",
    "              labelsize=14,\n",
    "              ax=None);\n",
    "\n",
    "# ax.annotate('10%', xy=(2*1e-3, 0.001), fontsize=12)"
   ]
  },
  {
   "cell_type": "code",
   "execution_count": 258,
   "metadata": {},
   "outputs": [],
   "source": [
    "bb = ax.bbox"
   ]
  },
  {
   "cell_type": "code",
   "execution_count": 261,
   "metadata": {},
   "outputs": [
    {
     "data": {
      "text/plain": [
       "array([[ 62.5,  44. ],\n",
       "       [450. , 352. ]])"
      ]
     },
     "execution_count": 261,
     "metadata": {},
     "output_type": "execute_result"
    }
   ],
   "source": [
    "bb."
   ]
  },
  {
   "cell_type": "code",
   "execution_count": null,
   "metadata": {},
   "outputs": [],
   "source": [
    "diff_coefs = SA.diff_coefs\n",
    "\n",
    "figures_list = []\n",
    "\n",
    "default_scalebar_props = {\n",
    "    'dx': 0.049,\n",
    "    'units': 'um',\n",
    "    'fixed_value': 2,\n",
    "    'scale_loc': 'none',\n",
    "    'location': 'lower right',\n",
    "    'frameon': False,\n",
    "    'color': 'xkcd:white'\n",
    "}\n",
    "\n",
    "for imov in fits_all['movie #'].unique():\n",
    "    movie_fits = all_fits[all_fits['movie #']==imov]\n",
    "    movie_fits = movie_fits[~np.isnan(movie_fits['track_id_SA'])]\n",
    "    movie_track_posteriors = track_posteriors[:, movie_fits['track_id_SA'].unique().astype('int')]\n",
    "\n",
    "    movie_posterior_occs = (movie_track_posteriors * movie_fits.groupby('track_id_SA')['track_id_SA'].count().values).sum(axis=1) / len(movie_fits)\n",
    "\n",
    "    phase_mask = phase_masks[imov]\n",
    "    contours = bu.labels_to_contours(phase_mask, level=0.9)\n",
    "    contours = [[smooth_polygon(contour[0])] for contour in contours]\n",
    "\n",
    "    fig, ax = plt.subplots(2,1, figsize=(4,8))\n",
    "    fig.suptitle(Path(files[imov]).stem, fontsize=12, y=0.92)\n",
    "    ax[0].set_xscale('log')\n",
    "    ax[0].set_xlim(left=diff_coefs[0], right=diff_coefs[-1])\n",
    "    ax[0].set_ylim(bottom=0, top=movie_track_posteriors.max()*1.05)\n",
    "    ax[0].plot(diff_coefs, movie_track_posteriors,\n",
    "               color='xkcd:grey',\n",
    "               lw=1.5,\n",
    "               alpha=0.1)\n",
    "    ax[0].plot(diff_coefs, movie_posterior_occs,\n",
    "               color='xkcd:black',\n",
    "               lw=3)\n",
    "    ax[0].set_ylabel('Occupation', fontsize=14)\n",
    "    \n",
    "    ax[1].imshow(np.zeros(phase_mask.shape), cmap='binary_r')\n",
    "    bu.crop_to_labels(ax[1], phase_mask)\n",
    "    ax[1].set_axis_off()\n",
    "    for contour in contours:\n",
    "        ax[1].plot(contour[0][:,1], contour[0][:,0], lw=1, alpha=0.5, color='xkcd:gray')\n",
    "    scatmap = ax[1].scatter(\n",
    "        data=movie_fits.sort_values('D_av', ascending=False),\n",
    "        # data=movie_fits,\n",
    "        x='col',\n",
    "        y='row',\n",
    "        c='D_av',\n",
    "        edgecolor='none',\n",
    "        vmin=1e-3,\n",
    "        vmax=1e1,\n",
    "        alpha=0.33,\n",
    "        s=5,\n",
    "        cmap=coolramp,\n",
    "        norm='log')\n",
    "    ax[0].set_xticks([])\n",
    "    cbar = plt.colorbar(scatmap,\n",
    "                        orientation='horizontal',\n",
    "                        ticks=[1e-3, 1e-2, 1e-1, 1e0, 1e1],\n",
    "                        ax=ax[0],\n",
    "                        label=r'$D_{app}\\ (\\mu m^2/s)$',\n",
    "                        pad=0)\n",
    "    \n",
    "    cbar.solids.set(alpha=1)\n",
    "    # cbar.set_label(fontsize=14)\n",
    "    cbar.ax.set_xticklabels(['$\\\\mathdefault{10^{-3}}$',\n",
    "                             '$\\\\mathdefault{10^{-2}}$',\n",
    "                             '$\\\\mathdefault{10^{-1}}$',\n",
    "                             '$\\\\mathdefault{10^{0}}$',\n",
    "                             '$\\\\mathdefault{10^{1}}$'])\n",
    "    # cbar.ax.tick_params(axis='x', labelsize=18)\n",
    "    cbar.set_label(r'$D_{app}\\ (\\mu m^2/s)$', fontsize=14)\n",
    "    \n",
    "    scalebar = sb.ScaleBar(**default_scalebar_props)\n",
    "    ax[1].add_artist(scalebar)\n",
    "        \n",
    "    all_figures.append(fig)"
   ]
  }
 ],
 "metadata": {
  "kernelspec": {
   "display_name": "saspt_env",
   "language": "python",
   "name": "python3"
  },
  "language_info": {
   "codemirror_mode": {
    "name": "ipython",
    "version": 3
   },
   "file_extension": ".py",
   "mimetype": "text/x-python",
   "name": "python",
   "nbconvert_exporter": "python",
   "pygments_lexer": "ipython3",
   "version": "3.9.18"
  }
 },
 "nbformat": 4,
 "nbformat_minor": 2
}

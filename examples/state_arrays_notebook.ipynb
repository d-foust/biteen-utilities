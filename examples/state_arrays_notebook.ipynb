{
 "cells": [
  {
   "cell_type": "markdown",
   "metadata": {},
   "source": [
    "# Running State Arrays on SMALL-LABS formatted data"
   ]
  },
  {
   "cell_type": "markdown",
   "metadata": {},
   "source": [
    "## Imports"
   ]
  },
  {
   "cell_type": "code",
   "execution_count": 3,
   "metadata": {},
   "outputs": [],
   "source": [
    "from os.path import join\n",
    "from pathlib import Path\n",
    "\n",
    "from glob import glob\n",
    "import matplotlib as mpl\n",
    "import matplotlib.pyplot as plt\n",
    "from matplotlib.backends.backend_pdf import PdfPages\n",
    "import matplotlib_scalebar.scalebar as sb\n",
    "import numpy as np\n",
    "from numpy.linalg import matrix_power\n",
    "import pandas as pd\n",
    "import scipy.io\n",
    "from skimage.measure import find_contours, regionprops\n",
    "\n",
    "from saspt import sample_detections, StateArray, StateArrayDataset, RBME\n",
    "from saspt.lik import RBMELikelihood\n",
    "import biteen_utilities as bu"
   ]
  },
  {
   "cell_type": "code",
   "execution_count": 4,
   "metadata": {},
   "outputs": [
    {
     "name": "stdout",
     "output_type": "stream",
     "text": [
      "The autoreload extension is already loaded. To reload it, use:\n",
      "  %reload_ext autoreload\n"
     ]
    }
   ],
   "source": [
    "%load_ext autoreload\n",
    "%autoreload 2"
   ]
  },
  {
   "cell_type": "markdown",
   "metadata": {},
   "source": [
    "## Load data"
   ]
  },
  {
   "cell_type": "markdown",
   "metadata": {},
   "source": [
    "### Find fits files"
   ]
  },
  {
   "cell_type": "code",
   "execution_count": 5,
   "metadata": {},
   "outputs": [
    {
     "name": "stdout",
     "output_type": "stream",
     "text": [
      "21 fits files found!\n"
     ]
    }
   ],
   "source": [
    "fits_folder = r\"T:\\MIGRATED\\Lab_Members\\Daniel_Foust\\Data\\State Arrays\\Lauren\"\n",
    "fits_pattern = r\"*_fits.mat\"\n",
    "fits_files = glob(join(fits_folder, r\"*_fits.mat\"))\n",
    "\n",
    "print(\"{} fits files found!\".format(len(fits_files)))"
   ]
  },
  {
   "cell_type": "markdown",
   "metadata": {},
   "source": [
    "### Find phase masks (labels)"
   ]
  },
  {
   "cell_type": "code",
   "execution_count": 7,
   "metadata": {},
   "outputs": [
    {
     "name": "stdout",
     "output_type": "stream",
     "text": [
      "21 labels files found!\n"
     ]
    }
   ],
   "source": [
    "labels_folder = r\"T:\\MIGRATED\\Lab_Members\\Daniel_Foust\\Data\\State Arrays\\Lauren\"\n",
    "labels_pattern = r\"*_PhaseMask.mat\"\n",
    "labels_files = glob(join(labels_folder, labels_pattern))\n",
    "\n",
    "print(\"{} labels files found!\".format(len(labels_files)))"
   ]
  },
  {
   "cell_type": "markdown",
   "metadata": {},
   "source": [
    "### Read fits and labels"
   ]
  },
  {
   "cell_type": "code",
   "execution_count": 8,
   "metadata": {},
   "outputs": [
    {
     "name": "stdout",
     "output_type": "stream",
     "text": [
      "Load data for T:\\MIGRATED\\Lab_Members\\Daniel_Foust\\Data\\State Arrays\\Lauren\\230210_cwx2695_2_5hr_001_AccBGSUB_fits.mat and T:\\MIGRATED\\Lab_Members\\Daniel_Foust\\Data\\State Arrays\\Lauren\\230210_cwx2695_2_5hr_001_PhaseMask.mat\n",
      "Load data for T:\\MIGRATED\\Lab_Members\\Daniel_Foust\\Data\\State Arrays\\Lauren\\230210_cwx2695_2_5hr_002_AccBGSUB_fits.mat and T:\\MIGRATED\\Lab_Members\\Daniel_Foust\\Data\\State Arrays\\Lauren\\230210_cwx2695_2_5hr_002_PhaseMask.mat\n",
      "Load data for T:\\MIGRATED\\Lab_Members\\Daniel_Foust\\Data\\State Arrays\\Lauren\\230210_cwx2695_2_5hr_003_AccBGSUB_fits.mat and T:\\MIGRATED\\Lab_Members\\Daniel_Foust\\Data\\State Arrays\\Lauren\\230210_cwx2695_2_5hr_003_PhaseMask.mat\n",
      "Load data for T:\\MIGRATED\\Lab_Members\\Daniel_Foust\\Data\\State Arrays\\Lauren\\230210_cwx2695_2_5hr_004_AccBGSUB_fits.mat and T:\\MIGRATED\\Lab_Members\\Daniel_Foust\\Data\\State Arrays\\Lauren\\230210_cwx2695_2_5hr_004_PhaseMask.mat\n",
      "Load data for T:\\MIGRATED\\Lab_Members\\Daniel_Foust\\Data\\State Arrays\\Lauren\\230210_cwx2695_2_5hr_005_AccBGSUB_fits.mat and T:\\MIGRATED\\Lab_Members\\Daniel_Foust\\Data\\State Arrays\\Lauren\\230210_cwx2695_2_5hr_005_PhaseMask.mat\n",
      "Load data for T:\\MIGRATED\\Lab_Members\\Daniel_Foust\\Data\\State Arrays\\Lauren\\230210_cwx2695_2_5hr_006_AccBGSUB_fits.mat and T:\\MIGRATED\\Lab_Members\\Daniel_Foust\\Data\\State Arrays\\Lauren\\230210_cwx2695_2_5hr_006_PhaseMask.mat\n",
      "Load data for T:\\MIGRATED\\Lab_Members\\Daniel_Foust\\Data\\State Arrays\\Lauren\\230210_cwx2695_c2_2_5hr_001_AccBGSUB_fits.mat and T:\\MIGRATED\\Lab_Members\\Daniel_Foust\\Data\\State Arrays\\Lauren\\230210_cwx2695_c2_2_5hr_001_PhaseMask.mat\n",
      "Load data for T:\\MIGRATED\\Lab_Members\\Daniel_Foust\\Data\\State Arrays\\Lauren\\230210_cwx2695_c2_2_5hr_002_AccBGSUB_fits.mat and T:\\MIGRATED\\Lab_Members\\Daniel_Foust\\Data\\State Arrays\\Lauren\\230210_cwx2695_c2_2_5hr_002_PhaseMask.mat\n",
      "Load data for T:\\MIGRATED\\Lab_Members\\Daniel_Foust\\Data\\State Arrays\\Lauren\\230210_cwx2695_c2_2_5hr_003_AccBGSUB_fits.mat and T:\\MIGRATED\\Lab_Members\\Daniel_Foust\\Data\\State Arrays\\Lauren\\230210_cwx2695_c2_2_5hr_003_PhaseMask.mat\n",
      "Load data for T:\\MIGRATED\\Lab_Members\\Daniel_Foust\\Data\\State Arrays\\Lauren\\230210_cwx2695_c2_2_5hr_004_AccBGSUB_fits.mat and T:\\MIGRATED\\Lab_Members\\Daniel_Foust\\Data\\State Arrays\\Lauren\\230210_cwx2695_c2_2_5hr_004_PhaseMask.mat\n",
      "Load data for T:\\MIGRATED\\Lab_Members\\Daniel_Foust\\Data\\State Arrays\\Lauren\\230210_cwx2695_c2_2_5hr_005_AccBGSUB_fits.mat and T:\\MIGRATED\\Lab_Members\\Daniel_Foust\\Data\\State Arrays\\Lauren\\230210_cwx2695_c2_2_5hr_005_PhaseMask.mat\n",
      "Load data for T:\\MIGRATED\\Lab_Members\\Daniel_Foust\\Data\\State Arrays\\Lauren\\230210_cwx2695_c2_2_5hr_006_AccBGSUB_fits.mat and T:\\MIGRATED\\Lab_Members\\Daniel_Foust\\Data\\State Arrays\\Lauren\\230210_cwx2695_c2_2_5hr_006_PhaseMask.mat\n",
      "Load data for T:\\MIGRATED\\Lab_Members\\Daniel_Foust\\Data\\State Arrays\\Lauren\\230213_cwx2695_2_5hr_001_AccBGSUB_fits.mat and T:\\MIGRATED\\Lab_Members\\Daniel_Foust\\Data\\State Arrays\\Lauren\\230213_cwx2695_2_5hr_001_PhaseMask.mat\n",
      "Load data for T:\\MIGRATED\\Lab_Members\\Daniel_Foust\\Data\\State Arrays\\Lauren\\230213_cwx2695_2_5hr_002_AccBGSUB_fits.mat and T:\\MIGRATED\\Lab_Members\\Daniel_Foust\\Data\\State Arrays\\Lauren\\230213_cwx2695_2_5hr_002_PhaseMask.mat\n",
      "Load data for T:\\MIGRATED\\Lab_Members\\Daniel_Foust\\Data\\State Arrays\\Lauren\\230213_cwx2695_2_5hr_003_AccBGSUB_fits.mat and T:\\MIGRATED\\Lab_Members\\Daniel_Foust\\Data\\State Arrays\\Lauren\\230213_cwx2695_2_5hr_003_PhaseMask.mat\n",
      "Load data for T:\\MIGRATED\\Lab_Members\\Daniel_Foust\\Data\\State Arrays\\Lauren\\230213_cwx2695_2_5hr_004_AccBGSUB_fits.mat and T:\\MIGRATED\\Lab_Members\\Daniel_Foust\\Data\\State Arrays\\Lauren\\230213_cwx2695_2_5hr_004_PhaseMask.mat\n",
      "Load data for T:\\MIGRATED\\Lab_Members\\Daniel_Foust\\Data\\State Arrays\\Lauren\\230213_cwx2695_2_5hr_005_AccBGSUB_fits.mat and T:\\MIGRATED\\Lab_Members\\Daniel_Foust\\Data\\State Arrays\\Lauren\\230213_cwx2695_2_5hr_005_PhaseMask.mat\n",
      "Load data for T:\\MIGRATED\\Lab_Members\\Daniel_Foust\\Data\\State Arrays\\Lauren\\230213_cwx2695_2_5hr_006_AccBGSUB_fits.mat and T:\\MIGRATED\\Lab_Members\\Daniel_Foust\\Data\\State Arrays\\Lauren\\230213_cwx2695_2_5hr_006_PhaseMask.mat\n",
      "Load data for T:\\MIGRATED\\Lab_Members\\Daniel_Foust\\Data\\State Arrays\\Lauren\\230213_cwx2695_2_5hr_007_AccBGSUB_fits.mat and T:\\MIGRATED\\Lab_Members\\Daniel_Foust\\Data\\State Arrays\\Lauren\\230213_cwx2695_2_5hr_007_PhaseMask.mat\n",
      "Load data for T:\\MIGRATED\\Lab_Members\\Daniel_Foust\\Data\\State Arrays\\Lauren\\230213_cwx2695_2_5hr_008_AccBGSUB_fits.mat and T:\\MIGRATED\\Lab_Members\\Daniel_Foust\\Data\\State Arrays\\Lauren\\230213_cwx2695_2_5hr_008_PhaseMask.mat\n",
      "Load data for T:\\MIGRATED\\Lab_Members\\Daniel_Foust\\Data\\State Arrays\\Lauren\\230213_cwx2695_2_5hr_009_AccBGSUB_fits.mat and T:\\MIGRATED\\Lab_Members\\Daniel_Foust\\Data\\State Arrays\\Lauren\\230213_cwx2695_2_5hr_009_PhaseMask.mat\n"
     ]
    }
   ],
   "source": [
    "fits_list = []\n",
    "labels_list = []\n",
    "\n",
    "max_track_id = 0\n",
    "max_label_id = 0\n",
    "\n",
    "for i, (ff, lf) in enumerate(zip(fits_files, labels_files)):\n",
    "    fits_curr = bu.slfile_to_df(ff) # converts SMALL-LABS to pandas DataFrame\n",
    "    fits_curr['movie #'] = i\n",
    "\n",
    "    track_ids = fits_curr['track_id'].dropna().unique()\n",
    "    n_tracks = len(track_ids)\n",
    "    new_track_ids = np.arange(n_tracks) + max_track_id\n",
    "    max_track_id = new_track_ids[-1] + 1\n",
    "    fits_curr['track_id_unique'] = fits_curr['track_id'].replace(track_ids, new_track_ids)\n",
    "\n",
    "    label_ids = fits_curr['roinum'].dropna().unique()\n",
    "    n_labels = len(label_ids)\n",
    "    new_label_ids = np.arange(n_labels) + max_label_id\n",
    "    max_label_id = new_label_ids[-1] + 1\n",
    "    fits_curr['roinum_unique'] = fits_curr['roinum'].replace(label_ids, new_label_ids)\n",
    "    \n",
    "    fits_list.append(fits_curr)\n",
    "    labels_list.append(scipy.io.loadmat(lf)['PhaseMask'])\n",
    "\n",
    "    print(\"Load data for {} and {}\".format(ff, lf))\n",
    "\n",
    "# Aggregate fits into single DataFrame\n",
    "fits_all = pd.concat(fits_list, ignore_index=True)"
   ]
  },
  {
   "cell_type": "markdown",
   "metadata": {},
   "source": [
    "## Clean up data"
   ]
  },
  {
   "cell_type": "markdown",
   "metadata": {},
   "source": [
    "### Exclude bad fits"
   ]
  },
  {
   "cell_type": "code",
   "execution_count": 9,
   "metadata": {},
   "outputs": [],
   "source": [
    "fits_all = fits_all[fits_all['goodfit']==True]"
   ]
  },
  {
   "cell_type": "markdown",
   "metadata": {},
   "source": [
    "### Exclude short tracks"
   ]
  },
  {
   "cell_type": "code",
   "execution_count": 10,
   "metadata": {},
   "outputs": [],
   "source": [
    "fits_all = bu.filter_by_nlocs(fits_all,\n",
    "                              min_locs=6,\n",
    "                              max_locs=np.inf,\n",
    "                              track_col='track_id')"
   ]
  },
  {
   "cell_type": "markdown",
   "metadata": {},
   "source": [
    "## Calculate State Array"
   ]
  },
  {
   "cell_type": "markdown",
   "metadata": {},
   "source": [
    "### Rename some columns\n",
    "saspt expects columns with specific names. We change SMALL-LABS column labels to labels accepted by saspt."
   ]
  },
  {
   "cell_type": "code",
   "execution_count": 14,
   "metadata": {},
   "outputs": [],
   "source": [
    "fits_sa = fits_all.rename(columns={'col': 'x', \n",
    "                                   'row': 'y', \n",
    "                                   'track_id_unique': 'trajectory'})"
   ]
  },
  {
   "cell_type": "markdown",
   "metadata": {},
   "source": [
    "### Define State Array"
   ]
  },
  {
   "cell_type": "code",
   "execution_count": 15,
   "metadata": {},
   "outputs": [
    {
     "name": "stderr",
     "output_type": "stream",
     "text": [
      "c:\\Users\\djfoust\\Anaconda3\\envs\\saspt_env\\lib\\site-packages\\saspt\\trajectory_group.py:136: SettingWithCopyWarning: \n",
      "A value is trying to be set on a copy of a slice from a DataFrame.\n",
      "Try using .loc[row_indexer,col_indexer] = value instead\n",
      "\n",
      "See the caveats in the documentation: https://pandas.pydata.org/pandas-docs/stable/user_guide/indexing.html#returning-a-view-versus-a-copy\n",
      "  detections[cls.DETECT_INDEX] = np.arange(len(detections), dtype=np.int64)\n"
     ]
    }
   ],
   "source": [
    "settings = dict(\n",
    "    likelihood_type = RBME, # model that includes Brownian motion and localization error\n",
    "    pixel_size_um = 0.049,  \n",
    "    frame_interval = 0.04,  # in seconds\n",
    "    focal_depth = np.inf,   # maybe should play around with this\n",
    "    progress_bar = True,\n",
    ")\n",
    "\n",
    "SA = StateArray.from_detections(fits_sa[['x', 'y', 'trajectory', 'frame']], **settings)\n",
    "\n",
    "# can ignore SettingWithCopyWarning"
   ]
  },
  {
   "cell_type": "markdown",
   "metadata": {},
   "source": [
    "### Overwrite default likelihood model"
   ]
  },
  {
   "cell_type": "code",
   "execution_count": 19,
   "metadata": {},
   "outputs": [],
   "source": [
    "rbme_likelihood = RBMELikelihood(\n",
    "    pixel_size_um = 0.049,\n",
    "    frame_interval = 0.04,\n",
    "    focal_depth = np.inf,\n",
    "    diff_coefs = np.logspace(-3, 1, 100), # adjust diffusion coefficients to consider here\n",
    "    loc_errors = np.linspace(0, 0.1, 30)  # adjust localization errors to consider here\n",
    "    )\n",
    "\n",
    "SA.likelihood = rbme_likelihood"
   ]
  },
  {
   "cell_type": "markdown",
   "metadata": {},
   "source": [
    "### Calculate State Arrays"
   ]
  },
  {
   "cell_type": "code",
   "execution_count": 20,
   "metadata": {},
   "outputs": [
    {
     "name": "stdout",
     "output_type": "stream",
     "text": [
      "inferring posterior distribution...\n"
     ]
    },
    {
     "name": "stderr",
     "output_type": "stream",
     "text": [
      "100%|██████████| 200/200 [00:27<00:00,  7.32it/s]\n"
     ]
    }
   ],
   "source": [
    "SA.posterior_assignment_probabilities;"
   ]
  },
  {
   "cell_type": "markdown",
   "metadata": {},
   "source": [
    "#"
   ]
  },
  {
   "cell_type": "code",
   "execution_count": 21,
   "metadata": {},
   "outputs": [],
   "source": [
    "track_posteriors = SA.posterior_assignment_probabilities.sum(axis=1)\n",
    "Dav_track = (track_posteriors * SA.diff_coefs[:,None]).sum(axis=0)\n",
    "sa_detections = SA.trajectories.detections\n",
    "sa_detections['D_av'] = Dav_track[sa_detections['trajectory']]\n",
    "\n",
    "posterior_occs = SA.posterior_occs.sum(axis=1)"
   ]
  },
  {
   "cell_type": "code",
   "execution_count": 22,
   "metadata": {},
   "outputs": [
    {
     "data": {
      "text/plain": [
       "(100,)"
      ]
     },
     "execution_count": 22,
     "metadata": {},
     "output_type": "execute_result"
    }
   ],
   "source": [
    "posterior_occs.shape"
   ]
  },
  {
   "cell_type": "code",
   "execution_count": null,
   "metadata": {},
   "outputs": [],
   "source": [
    "all_fits['track_id_SA'] = np.nan\n",
    "all_fits.loc[sa_detections['detect_index'], 'track_id_SA'] = sa_detections['trajectory']\n",
    "all_fits.loc[sa_detections['detect_index'], 'D_av'] = sa_detections['D_av']\n",
    "\n",
    "all_fits['log10(D_av)'] = np.log10(all_fits['D_av'])"
   ]
  },
  {
   "cell_type": "code",
   "execution_count": null,
   "metadata": {},
   "outputs": [],
   "source": [
    "cmap = mpl.cm.cool\n",
    "\n",
    "vmin = -3\n",
    "vmax = 1\n",
    "lmin = -2\n",
    "lmax = 0\n",
    "\n",
    "x = np.linspace(0, 1, 256)\n",
    "n_min = len(x[x<(lmin-vmin) / (vmax - vmin)])\n",
    "n_max = len(x[x>(lmax-vmin) / (vmax - vmin)])\n",
    "\n",
    "seg1 = np.array(n_min * [cmap(0.),])\n",
    "seg2 = cmap(np.linspace(0, 1, 256-n_min-n_max))\n",
    "seg3 = np.array(n_max * [cmap(1.),])\n",
    "\n",
    "colors = np.vstack((seg1, seg2, seg3))\n",
    "\n",
    "coolramp = mpl.colors.ListedColormap(colors=np.vstack((seg1, seg2, seg3)), N=256, name='cool_sat')"
   ]
  },
  {
   "cell_type": "code",
   "execution_count": null,
   "metadata": {},
   "outputs": [],
   "source": [
    "diff_coefs = SA.diff_coefs\n",
    "\n",
    "figures_list = []\n",
    "\n",
    "default_scalebar_props = {\n",
    "    'dx': 0.049,\n",
    "    'units': 'um',\n",
    "    'fixed_value': 2,\n",
    "    'scale_loc': 'none',\n",
    "    'location': 'lower right',\n",
    "    'frameon': False,\n",
    "    'color': 'xkcd:white'\n",
    "}\n",
    "\n",
    "for imov in fits_all['movie #'].unique():\n",
    "    movie_fits = all_fits[all_fits['movie #']==imov]\n",
    "    movie_fits = movie_fits[~np.isnan(movie_fits['track_id_SA'])]\n",
    "    movie_track_posteriors = track_posteriors[:, movie_fits['track_id_SA'].unique().astype('int')]\n",
    "\n",
    "    movie_posterior_occs = (movie_track_posteriors * movie_fits.groupby('track_id_SA')['track_id_SA'].count().values).sum(axis=1) / len(movie_fits)\n",
    "\n",
    "    phase_mask = phase_masks[imov]\n",
    "    contours = bu.labels_to_contours(phase_mask, level=0.9)\n",
    "    contours = [[smooth_polygon(contour[0])] for contour in contours]\n",
    "\n",
    "    fig, ax = plt.subplots(2,1, figsize=(4,8))\n",
    "    fig.suptitle(Path(files[imov]).stem, fontsize=12, y=0.92)\n",
    "    ax[0].set_xscale('log')\n",
    "    ax[0].set_xlim(left=diff_coefs[0], right=diff_coefs[-1])\n",
    "    ax[0].set_ylim(bottom=0, top=movie_track_posteriors.max()*1.05)\n",
    "    ax[0].plot(diff_coefs, movie_track_posteriors,\n",
    "               color='xkcd:grey',\n",
    "               lw=1.5,\n",
    "               alpha=0.1)\n",
    "    ax[0].plot(diff_coefs, movie_posterior_occs,\n",
    "               color='xkcd:black',\n",
    "               lw=3)\n",
    "    ax[0].set_ylabel('Occupation', fontsize=14)\n",
    "    \n",
    "    ax[1].imshow(np.zeros(phase_mask.shape), cmap='binary_r')\n",
    "    bu.crop_to_labels(ax[1], phase_mask)\n",
    "    ax[1].set_axis_off()\n",
    "    for contour in contours:\n",
    "        ax[1].plot(contour[0][:,1], contour[0][:,0], lw=1, alpha=0.5, color='xkcd:gray')\n",
    "    scatmap = ax[1].scatter(\n",
    "        data=movie_fits.sort_values('D_av', ascending=False),\n",
    "        # data=movie_fits,\n",
    "        x='col',\n",
    "        y='row',\n",
    "        c='D_av',\n",
    "        edgecolor='none',\n",
    "        vmin=1e-3,\n",
    "        vmax=1e1,\n",
    "        alpha=0.33,\n",
    "        s=5,\n",
    "        cmap=coolramp,\n",
    "        norm='log')\n",
    "    ax[0].set_xticks([])\n",
    "    cbar = plt.colorbar(scatmap,\n",
    "                        orientation='horizontal',\n",
    "                        ticks=[1e-3, 1e-2, 1e-1, 1e0, 1e1],\n",
    "                        ax=ax[0],\n",
    "                        label=r'$D_{app}\\ (\\mu m^2/s)$',\n",
    "                        pad=0)\n",
    "    \n",
    "    cbar.solids.set(alpha=1)\n",
    "    # cbar.set_label(fontsize=14)\n",
    "    cbar.ax.set_xticklabels(['$\\\\mathdefault{10^{-3}}$',\n",
    "                             '$\\\\mathdefault{10^{-2}}$',\n",
    "                             '$\\\\mathdefault{10^{-1}}$',\n",
    "                             '$\\\\mathdefault{10^{0}}$',\n",
    "                             '$\\\\mathdefault{10^{1}}$'])\n",
    "    # cbar.ax.tick_params(axis='x', labelsize=18)\n",
    "    cbar.set_label(r'$D_{app}\\ (\\mu m^2/s)$', fontsize=14)\n",
    "    \n",
    "    scalebar = sb.ScaleBar(**default_scalebar_props)\n",
    "    ax[1].add_artist(scalebar)\n",
    "        \n",
    "    all_figures.append(fig)"
   ]
  }
 ],
 "metadata": {
  "kernelspec": {
   "display_name": "saspt_env",
   "language": "python",
   "name": "python3"
  },
  "language_info": {
   "codemirror_mode": {
    "name": "ipython",
    "version": 3
   },
   "file_extension": ".py",
   "mimetype": "text/x-python",
   "name": "python",
   "nbconvert_exporter": "python",
   "pygments_lexer": "ipython3",
   "version": "3.9.18"
  }
 },
 "nbformat": 4,
 "nbformat_minor": 2
}
